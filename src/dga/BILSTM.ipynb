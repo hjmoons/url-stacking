{
 "cells": [
  {
   "cell_type": "code",
   "execution_count": 6,
   "metadata": {
    "ExecuteTime": {
     "end_time": "2020-08-07T07:47:00.564539Z",
     "start_time": "2020-08-07T07:47:00.452568Z"
    }
   },
   "outputs": [],
   "source": [
    "# Load Libraries\n",
    "import warnings\n",
    "from datetime import datetime\n",
    "\n",
    "import tensorflow as tf\n",
    "from keras import backend as K\n",
    "from keras import regularizers\n",
    "from keras.callbacks import EarlyStopping\n",
    "from keras.callbacks import ModelCheckpoint\n",
    "from keras.layers import Bidirectional\n",
    "from keras.layers import Embedding, LSTM, Input\n",
    "from keras.layers.core import Dense, Dropout\n",
    "from keras.models import Sequential, Model\n",
    "from keras.optimizers import Adam\n",
    "from model_evaluator import Evaluator\n",
    "from model_preprocessor import Preprocessor\n",
    "\n",
    "warnings.filterwarnings(\"ignore\")\n",
    "config = tf.ConfigProto()\n",
    "config.gpu_options.per_process_gpu_memory_fraction = 0.9\n",
    "K.tensorflow_backend.set_session(tf.Session(config=config))"
   ]
  },
  {
   "cell_type": "code",
   "execution_count": 10,
   "metadata": {
    "ExecuteTime": {
     "end_time": "2020-08-07T07:47:29.739623Z",
     "start_time": "2020-08-07T07:47:29.735621Z"
    }
   },
   "outputs": [],
   "source": [
    "def bilstm(max_len=73, emb_dim=32, max_vocab_len=40, W_reg=regularizers.l2(1e-4)):\n",
    "    \"\"\"BiLSTM model with the Keras Sequential model\"\"\"\n",
    "    input = Input(shape=(max_len,), dtype=\"int32\", name=\"bilstm_input\")\n",
    "    emb = Embedding(input_dim=max_vocab_len, output_dim=emb_dim, input_length=max_len, W_regularizer=W_reg)(input)\n",
    "    emb = Dropout(0.5)(emb)\n",
    "    bilstm = Bidirectional(LSTM(128))(emb)\n",
    "    bilstm = Dropout(0.5)(bilstm)\n",
    "    output = Dense(21, activation='softmax', name='bilstm_output')(bilstm)\n",
    "    model = Model(input=[input], output=[output])\n",
    "    return model"
   ]
  },
  {
   "cell_type": "code",
   "execution_count": 8,
   "metadata": {
    "ExecuteTime": {
     "end_time": "2020-08-07T07:47:19.090923Z",
     "start_time": "2020-08-07T07:47:00.892659Z"
    }
   },
   "outputs": [],
   "source": [
    "# Load data using model preprocessor\n",
    "x_train, x_test, y_train, y_test = Preprocessor.load_data()"
   ]
  },
  {
   "cell_type": "code",
   "execution_count": 11,
   "metadata": {
    "ExecuteTime": {
     "end_time": "2020-08-07T09:39:06.477487Z",
     "start_time": "2020-08-07T07:47:31.687567Z"
    }
   },
   "outputs": [
    {
     "name": "stdout",
     "output_type": "stream",
     "text": [
      "WARNING:tensorflow:From c:\\users\\hyojong\\anaconda3\\envs\\ml\\lib\\site-packages\\tensorflow\\python\\ops\\math_ops.py:3066: to_int32 (from tensorflow.python.ops.math_ops) is deprecated and will be removed in a future version.\n",
      "Instructions for updating:\n",
      "Use tf.cast instead.\n",
      "Train on 1149965 samples, validate on 142131 samples\n",
      "Epoch 1/5\n",
      "1149965/1149965 [==============================] - 1326s 1ms/step - loss: 0.7342 - accuracy: 0.7832 - categorical_accuracy: 0.7153 - precision: 0.8765 - recall: 0.7150 - fmeasure: 0.7846 - val_loss: 0.4807 - val_accuracy: 0.8546 - val_categorical_accuracy: 0.7873 - val_precision: 0.9211 - val_recall: 0.8136 - val_fmeasure: 0.8636\n",
      "Epoch 2/5\n",
      "1149965/1149965 [==============================] - 1346s 1ms/step - loss: 0.4803 - accuracy: 0.8588 - categorical_accuracy: 0.8083 - precision: 0.9183 - recall: 0.8167 - fmeasure: 0.8640 - val_loss: 0.3513 - val_accuracy: 0.8969 - val_categorical_accuracy: 0.8250 - val_precision: 0.9379 - val_recall: 0.8666 - val_fmeasure: 0.9005\n",
      "Epoch 3/5\n",
      "1149965/1149965 [==============================] - 1350s 1ms/step - loss: 0.3832 - accuracy: 0.8895 - categorical_accuracy: 0.8371 - precision: 0.9334 - recall: 0.8550 - fmeasure: 0.8921 - val_loss: 0.2828 - val_accuracy: 0.9169 - val_categorical_accuracy: 0.8476 - val_precision: 0.9450 - val_recall: 0.8954 - val_fmeasure: 0.9194\n",
      "Epoch 4/5\n",
      "1149965/1149965 [==============================] - 1346s 1ms/step - loss: 0.3160 - accuracy: 0.9083 - categorical_accuracy: 0.8560 - precision: 0.9398 - recall: 0.8828 - fmeasure: 0.9101 - val_loss: 0.2326 - val_accuracy: 0.9313 - val_categorical_accuracy: 0.8634 - val_precision: 0.9513 - val_recall: 0.9146 - val_fmeasure: 0.9324\n",
      "Epoch 5/5\n",
      "1149965/1149965 [==============================] - 1326s 1ms/step - loss: 0.2688 - accuracy: 0.9213 - categorical_accuracy: 0.8697 - precision: 0.9455 - recall: 0.9011 - fmeasure: 0.9226 - val_loss: 0.1993 - val_accuracy: 0.9410 - val_categorical_accuracy: 0.8755 - val_precision: 0.9559 - val_recall: 0.9293 - val_fmeasure: 0.9423\n"
     ]
    },
    {
     "data": {
      "text/plain": [
       "<keras.callbacks.callbacks.History at 0x1af657c8488>"
      ]
     },
     "execution_count": 11,
     "metadata": {},
     "output_type": "execute_result"
    }
   ],
   "source": [
    "# Define Deep Learning Model\n",
    "model_name = \"BILSTM\"\n",
    "model = bilstm()\n",
    "\n",
    "''' Training phrase '''\n",
    "epochs = 5\n",
    "batch_size = 64\n",
    "adam = Adam(lr=1e-4, beta_1=0.9, beta_2=0.999, epsilon=1e-08, decay=0.0)\n",
    "\n",
    "model.compile(optimizer=adam, loss='categorical_crossentropy',\n",
    "              metrics=['accuracy', tf.keras.metrics.CategoricalAccuracy(),\n",
    "                       Evaluator.precision, Evaluator.recall, Evaluator.fmeasure])\n",
    "\n",
    "model.fit(x_train, y_train, epochs=epochs, batch_size=batch_size, validation_split=0.11)"
   ]
  },
  {
   "cell_type": "code",
   "execution_count": null,
   "metadata": {},
   "outputs": [],
   "source": [
    "model_json = model.to_json()\n",
    "with open(\"./saved_model/bilstm.json\", \"w\") as json_file:\n",
    "    json_file.write(model_json)\n",
    "model.save_weights(\"./saved_model/bilstm.h5\")"
   ]
  }
 ],
 "metadata": {
  "kernelspec": {
   "display_name": "Python 3",
   "language": "python",
   "name": "python3"
  },
  "language_info": {
   "codemirror_mode": {
    "name": "ipython",
    "version": 3
   },
   "file_extension": ".py",
   "mimetype": "text/x-python",
   "name": "python",
   "nbconvert_exporter": "python",
   "pygments_lexer": "ipython3",
   "version": "3.7.7"
  },
  "toc": {
   "base_numbering": 1,
   "nav_menu": {},
   "number_sections": true,
   "sideBar": true,
   "skip_h1_title": false,
   "title_cell": "Table of Contents",
   "title_sidebar": "Contents",
   "toc_cell": false,
   "toc_position": {},
   "toc_section_display": true,
   "toc_window_display": false
  }
 },
 "nbformat": 4,
 "nbformat_minor": 4
}
