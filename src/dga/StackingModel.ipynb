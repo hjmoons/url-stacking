{
 "cells": [
  {
   "cell_type": "code",
   "execution_count": 1,
   "metadata": {
    "ExecuteTime": {
     "end_time": "2020-08-05T06:34:06.078427Z",
     "start_time": "2020-08-05T06:34:04.360372Z"
    }
   },
   "outputs": [
    {
     "name": "stderr",
     "output_type": "stream",
     "text": [
      "Using TensorFlow backend.\n"
     ]
    }
   ],
   "source": [
    "# Load Libraries\n",
    "import pandas as pd\n",
    "import numpy as np\n",
    "import re, os\n",
    "from string import printable\n",
    "from sklearn import model_selection\n",
    "\n",
    "import tensorflow as tf\n",
    "from keras.models import Sequential, Model, model_from_json, load_model\n",
    "from keras import regularizers\n",
    "from keras.layers.core import Dense, Dropout, Activation, Lambda, Flatten\n",
    "from keras.layers import Input, ELU, LSTM, Embedding, Convolution2D, MaxPooling2D, \\\n",
    "    BatchNormalization, Convolution1D, MaxPooling1D, concatenate\n",
    "from keras.preprocessing import sequence\n",
    "from keras.optimizers import SGD, Adam, RMSprop\n",
    "from keras.utils import np_utils\n",
    "from keras import backend as K\n",
    "from sklearn.model_selection import KFold\n",
    "from pathlib import Path\n",
    "from keras.utils.vis_utils import model_to_dot\n",
    "from IPython.display import SVG\n",
    "from keras.utils import plot_model\n",
    "from tensorflow.python.platform import gfile\n",
    "from sklearn.linear_model import LinearRegression, RidgeCV, LassoCV, Ridge, Lasso\n",
    "from keras.utils import to_categorical\n",
    "from numpy import dstack\n",
    "from sklearn.linear_model import LogisticRegression\n",
    "from sklearn.metrics import accuracy_score\n",
    "from numpy import argmax\n",
    "from keras.models import model_from_json\n",
    "\n",
    "from model_preprocessor import Preprocessor\n",
    "\n",
    "import json\n",
    "\n",
    "import warnings\n",
    "warnings.filterwarnings(\"ignore\")\n",
    "config = tf.ConfigProto()\n",
    "config.gpu_options.per_process_gpu_memory_fraction = 0.9\n",
    "K.tensorflow_backend.set_session(tf.Session(config=config))"
   ]
  },
  {
   "cell_type": "code",
   "execution_count": 2,
   "metadata": {
    "ExecuteTime": {
     "end_time": "2020-08-05T06:34:06.083429Z",
     "start_time": "2020-08-05T06:34:06.079428Z"
    }
   },
   "outputs": [],
   "source": [
    "# General save model to disk function\n",
    "def save_model(fileModelJSON, fileWeights):\n",
    "    if Path(fileModelJSON).is_file():\n",
    "        os.remove(fileModelJSON)\n",
    "    json_string = stacked_model.to_json()\n",
    "    with open(fileModelJSON, 'w') as f:\n",
    "        json.dump(json_string, f)\n",
    "    if Path(fileWeights).is_file():\n",
    "        os.remove(fileWeights)\n",
    "    stacked_model.save_weights(fileWeights)\n",
    "\n",
    "def load_models(fileModelJSON, fileWeights):\n",
    "    with open(fileModelJSON, 'r') as f:\n",
    "        model_json = f.read()\n",
    "        model = model_from_json(model_json)\n",
    "        f.close()\n",
    "    model.load_weights(fileWeights)\n",
    "    return model"
   ]
  },
  {
   "cell_type": "code",
   "execution_count": 3,
   "metadata": {
    "ExecuteTime": {
     "end_time": "2020-08-05T06:34:06.090431Z",
     "start_time": "2020-08-05T06:34:06.084429Z"
    }
   },
   "outputs": [],
   "source": [
    "def define_stacked_model(members):\n",
    "    # update all layers in all models to not be trainable\n",
    "    for i in range(len(members)):\n",
    "        model = members[i]\n",
    "        for layer in model.layers:\n",
    "            # make not trainable\n",
    "            layer.trainable = False\n",
    "            # rename to avoid 'unique layer name' issue\n",
    "            layer.name = 'ensemble_' + str(i+1) + '_' + layer.name\n",
    "    # define multi-headed input\n",
    "    ensemble_visible = [model.input for model in members]\n",
    "    # concatenate merge output from each model\n",
    "    ensemble_outputs = [model.output for model in members]\n",
    "\n",
    "    merge = concatenate(ensemble_outputs)\n",
    "    hidden = Dense(32, activation='relu')(merge)\n",
    "    output = Dense(21, activation='softmax')(hidden)\n",
    "    model = Model(inputs=ensemble_visible, outputs=output)\n",
    "    model.compile(loss='categorical_crossentropy',optimizer='adam',metrics=['accuracy'])\n",
    "    return model\n",
    "\n",
    "    # fit a stacked model\n",
    "def fit_stacked_model(model, inputX, inputy, epochs, batch_size):\n",
    "    # prepare input data\n",
    "    X = [inputX for _ in range(len(model.input))]\n",
    "    # encode output data\n",
    "    inputy_enc = to_categorical(inputy)\n",
    "\n",
    "    # fit model\n",
    "    model.fit(X, inputy, epochs=epochs, batch_size=batch_size)\n",
    "\n",
    "# make a prediction with a stacked model\n",
    "def predict_stacked_model(model, inputX):\n",
    "    # prepare input data\n",
    "    X = [inputX for _ in range(len(model.input))]\n",
    "    # make prediction\n",
    "    return model.predict(X, verbose=0)"
   ]
  },
  {
   "cell_type": "code",
   "execution_count": 4,
   "metadata": {
    "ExecuteTime": {
     "end_time": "2020-08-05T06:34:24.659052Z",
     "start_time": "2020-08-05T06:34:06.091431Z"
    }
   },
   "outputs": [],
   "source": [
    "# Load data using model preprocessor\n",
    "x_train, x_test, y_train, y_test = Preprocessor.load_data()"
   ]
  },
  {
   "cell_type": "code",
   "execution_count": 5,
   "metadata": {
    "ExecuteTime": {
     "end_time": "2020-08-05T06:34:25.718318Z",
     "start_time": "2020-08-05T06:34:24.660052Z"
    }
   },
   "outputs": [
    {
     "name": "stdout",
     "output_type": "stream",
     "text": [
      "WARNING:tensorflow:From c:\\users\\hyojong\\anaconda3\\envs\\ml\\lib\\site-packages\\tensorflow\\python\\ops\\resource_variable_ops.py:435: colocate_with (from tensorflow.python.framework.ops) is deprecated and will be removed in a future version.\n",
      "Instructions for updating:\n",
      "Colocations handled automatically by placer.\n"
     ]
    }
   ],
   "source": [
    "models_dir = \"saved_model/\"\n",
    "CNNmodel = load_models(models_dir + \"cnn.json\", models_dir + \"cnn.h5\")\n",
    "LSTMmodel = load_models(models_dir + \"lstm.json\", models_dir + \"lstm.h5\")\n",
    "GRUMmodel = load_models(models_dir + \"gru.json\", models_dir + \"gru.h5\")\n",
    "\n",
    "adam = Adam(lr=1e-4, beta_1=0.9, beta_2=0.999, epsilon=1e-08, decay=0.0)\n",
    "\n",
    "CNNmodel.compile(optimizer=adam, loss='categorical_crossentropy', metrics=['accuracy'])\n",
    "LSTMmodel.compile(optimizer=adam, loss='categorical_crossentropy', metrics=['accuracy'])\n",
    "GRUMmodel.compile(optimizer=adam, loss='categorical_crossentropy', metrics=['accuracy'])\n",
    "\n",
    "members = list()\n",
    "members.append(CNNmodel)\n",
    "members.append(LSTMmodel)\n",
    "members.append(GRUMmodel)"
   ]
  },
  {
   "cell_type": "code",
   "execution_count": 6,
   "metadata": {
    "ExecuteTime": {
     "end_time": "2020-08-05T07:49:46.419202Z",
     "start_time": "2020-08-05T06:34:25.719318Z"
    }
   },
   "outputs": [
    {
     "name": "stdout",
     "output_type": "stream",
     "text": [
      "################################\n",
      "Complete Define Stacked Model!!\n",
      "#################################\n",
      "Start training!!!!\n",
      "WARNING:tensorflow:From c:\\users\\hyojong\\anaconda3\\envs\\ml\\lib\\site-packages\\tensorflow\\python\\ops\\math_ops.py:3066: to_int32 (from tensorflow.python.ops.math_ops) is deprecated and will be removed in a future version.\n",
      "Instructions for updating:\n",
      "Use tf.cast instead.\n",
      "Epoch 1/5\n",
      "1292096/1292096 [==============================] - 912s 706us/step - loss: 0.2004 - accuracy: 0.9480\n",
      "Epoch 2/5\n",
      "1292096/1292096 [==============================] - 904s 700us/step - loss: 0.1802 - accuracy: 0.9503\n",
      "Epoch 3/5\n",
      "1292096/1292096 [==============================] - 902s 698us/step - loss: 0.1766 - accuracy: 0.9509\n",
      "Epoch 4/5\n",
      "1292096/1292096 [==============================] - 902s 698us/step - loss: 0.1741 - accuracy: 0.9511\n",
      "Epoch 5/5\n",
      "1292096/1292096 [==============================] - 899s 696us/step - loss: 0.1729 - accuracy: 0.9514\n",
      "Complete Train Stacked Model!!\n"
     ]
    }
   ],
   "source": [
    "epochs = 5\n",
    "batch_size = 32\n",
    "\n",
    "# define ensemble model\n",
    "stacked_model = define_stacked_model(members)\n",
    "\n",
    "print(\"################################\")\n",
    "print(\"Complete Define Stacked Model!!\") \n",
    "\n",
    "\n",
    "# fit stacked model on test dataset\n",
    "print(\"#################################\")\n",
    "print(\"Start training!!!!\")\n",
    "\n",
    "fit_stacked_model(stacked_model, x_train, y_train, epochs, batch_size)\n",
    "print(\"Complete Train Stacked Model!!\")"
   ]
  },
  {
   "cell_type": "code",
   "execution_count": 9,
   "metadata": {
    "ExecuteTime": {
     "end_time": "2020-08-05T07:54:45.702726Z",
     "start_time": "2020-08-05T07:50:46.436511Z"
    }
   },
   "outputs": [
    {
     "name": "stdout",
     "output_type": "stream",
     "text": [
      "Model Accuracy: 0.933\n",
      "Model Accuracy: 0.944\n",
      "Model Accuracy: 0.947\n",
      "143567/143567 [==============================] - 97s 679us/step\n"
     ]
    },
    {
     "data": {
      "text/plain": [
       "[0.15821998300758425, 0.955902099609375]"
      ]
     },
     "execution_count": 9,
     "metadata": {},
     "output_type": "execute_result"
    }
   ],
   "source": [
    "for model in members:\n",
    "    _, acc = model.evaluate(x_test, y_test, verbose=0)\n",
    "    print('Model Accuracy: %.3f' % acc)\n",
    "\n",
    "X = [x_test for _ in range(len(stacked_model.input))]\n",
    "stacked_model.evaluate(X, y_test)"
   ]
  },
  {
   "cell_type": "code",
   "execution_count": 10,
   "metadata": {
    "ExecuteTime": {
     "end_time": "2020-08-05T08:18:51.422639Z",
     "start_time": "2020-08-05T08:18:50.985718Z"
    }
   },
   "outputs": [
    {
     "name": "stdout",
     "output_type": "stream",
     "text": [
      "INFO:tensorflow:No assets to save.\n",
      "INFO:tensorflow:No assets to write.\n",
      "INFO:tensorflow:SavedModel written to: ./saved_model/stacking/saved_model.pb\n"
     ]
    },
    {
     "data": {
      "text/plain": [
       "b'./saved_model/stacking/saved_model.pb'"
      ]
     },
     "execution_count": 10,
     "metadata": {},
     "output_type": "execute_result"
    }
   ],
   "source": [
    "from keras import backend as K\n",
    "\n",
    "sess = K.get_session()\n",
    "init = tf.global_variables_initializer()\n",
    "sess.run(init)\n",
    "\n",
    "builder = tf.saved_model.builder.SavedModelBuilder(\"./saved_model/stacking/\")\n",
    "builder.add_meta_graph_and_variables(sess, [tf.saved_model.tag_constants.SERVING])\n",
    "builder.save()"
   ]
  },
  {
   "cell_type": "code",
   "execution_count": 2,
   "metadata": {
    "ExecuteTime": {
     "end_time": "2020-08-07T06:44:52.352056Z",
     "start_time": "2020-08-07T06:44:52.348055Z"
    }
   },
   "outputs": [
    {
     "ename": "NameError",
     "evalue": "name 'stacked_model' is not defined",
     "output_type": "error",
     "traceback": [
      "\u001b[1;31m---------------------------------------------------------------------------\u001b[0m",
      "\u001b[1;31mNameError\u001b[0m                                 Traceback (most recent call last)",
      "\u001b[1;32m<ipython-input-2-a8a5e347c6e3>\u001b[0m in \u001b[0;36m<module>\u001b[1;34m\u001b[0m\n\u001b[1;32m----> 1\u001b[1;33m \u001b[0mstacked_model\u001b[0m\u001b[1;33m.\u001b[0m\u001b[0msummary\u001b[0m\u001b[1;33m(\u001b[0m\u001b[1;33m)\u001b[0m\u001b[1;33m\u001b[0m\u001b[1;33m\u001b[0m\u001b[0m\n\u001b[0m",
      "\u001b[1;31mNameError\u001b[0m: name 'stacked_model' is not defined"
     ]
    }
   ],
   "source": [
    "stacked_model.summary()"
   ]
  },
  {
   "cell_type": "code",
   "execution_count": null,
   "metadata": {},
   "outputs": [],
   "source": []
  }
 ],
 "metadata": {
  "kernelspec": {
   "display_name": "Python 3",
   "language": "python",
   "name": "python3"
  },
  "language_info": {
   "codemirror_mode": {
    "name": "ipython",
    "version": 3
   },
   "file_extension": ".py",
   "mimetype": "text/x-python",
   "name": "python",
   "nbconvert_exporter": "python",
   "pygments_lexer": "ipython3",
   "version": "3.7.7"
  },
  "toc": {
   "base_numbering": 1,
   "nav_menu": {},
   "number_sections": true,
   "sideBar": true,
   "skip_h1_title": false,
   "title_cell": "Table of Contents",
   "title_sidebar": "Contents",
   "toc_cell": false,
   "toc_position": {},
   "toc_section_display": true,
   "toc_window_display": false
  }
 },
 "nbformat": 4,
 "nbformat_minor": 4
}
