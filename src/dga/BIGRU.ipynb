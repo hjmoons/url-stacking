{
 "cells": [
  {
   "cell_type": "code",
   "execution_count": 1,
   "metadata": {
    "ExecuteTime": {
     "end_time": "2020-08-07T07:57:47.451256Z",
     "start_time": "2020-08-07T07:57:44.488430Z"
    }
   },
   "outputs": [
    {
     "name": "stderr",
     "output_type": "stream",
     "text": [
      "Using TensorFlow backend.\n"
     ]
    }
   ],
   "source": [
    "# Load Libraries\n",
    "import warnings\n",
    "from datetime import datetime\n",
    "\n",
    "import tensorflow as tf\n",
    "from keras import backend as K\n",
    "from keras import regularizers\n",
    "from keras.callbacks import EarlyStopping\n",
    "from keras.callbacks import ModelCheckpoint\n",
    "from keras.layers import Bidirectional\n",
    "from keras.layers import Embedding, GRU, Input\n",
    "from keras.layers.core import Dense, Dropout\n",
    "from keras.models import Sequential, Model\n",
    "from keras.optimizers import Adam\n",
    "from model_evaluator import Evaluator\n",
    "from model_preprocessor import Preprocessor\n",
    "\n",
    "warnings.filterwarnings(\"ignore\")\n",
    "config = tf.ConfigProto()\n",
    "config.gpu_options.per_process_gpu_memory_fraction = 0.9\n",
    "K.tensorflow_backend.set_session(tf.Session(config=config))"
   ]
  },
  {
   "cell_type": "code",
   "execution_count": 2,
   "metadata": {
    "ExecuteTime": {
     "end_time": "2020-08-07T08:00:10.702383Z",
     "start_time": "2020-08-07T08:00:10.696381Z"
    }
   },
   "outputs": [],
   "source": [
    "def bigru(max_len=67, emb_dim=32, max_vocab_len=39, W_reg=regularizers.l2(1e-4)):\n",
    "    \"\"\"BiGRU model with the Keras Sequential model\"\"\"\n",
    "    input = Input(shape=(max_len,), dtype='int32', name='bigru_input')\n",
    "    emb = Embedding(input_dim=max_vocab_len, output_dim=emb_dim, input_length=max_len, W_regularizer=W_reg)(input)\n",
    "    emb = Dropout(0.5)(emb)\n",
    "    bigru = Bidirectional(GRU(128))(emb)\n",
    "    bigru = Dropout(0.5)(bigru)\n",
    "    output = Dense(21, activation='softmax')(bigru)\n",
    "    model = Model(input=[input], output=[output])\n",
    "    return model"
   ]
  },
  {
   "cell_type": "code",
   "execution_count": null,
   "metadata": {},
   "outputs": [],
   "source": [
    "# Load data using model preprocessor\n",
    "x_train, x_test, y_train, y_test = Preprocessor.load_data()"
   ]
  },
  {
   "cell_type": "code",
   "execution_count": null,
   "metadata": {},
   "outputs": [],
   "source": [
    "# Define Deep Learning Model\n",
    "model_name = \"BIGRU\"\n",
    "model = bigru()\n",
    "\n",
    "''' Training phrase '''\n",
    "epochs = 5\n",
    "batch_size = 64\n",
    "adam = Adam(lr=1e-4, beta_1=0.9, beta_2=0.999, epsilon=1e-08, decay=0.0)\n",
    "\n",
    "model.compile(optimizer=adam, loss='categorical_crossentropy',\n",
    "              metrics=['accuracy', tf.keras.metrics.CategoricalAccuracy(),\n",
    "                       Evaluator.precision, Evaluator.recall, Evaluator.fmeasure])\n",
    "\n",
    "model.fit(x_train, y_train, epochs=epochs, batch_size=batch_size, validation_split=0.11)"
   ]
  },
  {
   "cell_type": "code",
   "execution_count": null,
   "metadata": {},
   "outputs": [],
   "source": [
    "model_json = model.to_json()\n",
    "with open(\"./saved_model/bigru.json\", \"w\") as json_file:\n",
    "    json_file.write(model_json)\n",
    "model.save_weights(\"./saved_model/bigru.h5\")"
   ]
  }
 ],
 "metadata": {
  "kernelspec": {
   "display_name": "Python 3",
   "language": "python",
   "name": "python3"
  },
  "language_info": {
   "codemirror_mode": {
    "name": "ipython",
    "version": 3
   },
   "file_extension": ".py",
   "mimetype": "text/x-python",
   "name": "python",
   "nbconvert_exporter": "python",
   "pygments_lexer": "ipython3",
   "version": "3.7.7"
  },
  "toc": {
   "base_numbering": 1,
   "nav_menu": {},
   "number_sections": true,
   "sideBar": true,
   "skip_h1_title": false,
   "title_cell": "Table of Contents",
   "title_sidebar": "Contents",
   "toc_cell": false,
   "toc_position": {},
   "toc_section_display": true,
   "toc_window_display": false
  }
 },
 "nbformat": 4,
 "nbformat_minor": 4
}