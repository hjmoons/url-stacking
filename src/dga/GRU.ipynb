{
 "cells": [
  {
   "cell_type": "code",
   "execution_count": 1,
   "metadata": {
    "ExecuteTime": {
     "end_time": "2020-08-04T07:48:10.305864Z",
     "start_time": "2020-08-04T07:48:06.589391Z"
    }
   },
   "outputs": [
    {
     "name": "stderr",
     "output_type": "stream",
     "text": [
      "Using TensorFlow backend.\n"
     ]
    }
   ],
   "source": [
    "# Load Libraries\n",
    "import warnings\n",
    "from datetime import datetime\n",
    "\n",
    "import tensorflow as tf\n",
    "from keras import backend as K\n",
    "from keras import regularizers\n",
    "from keras.callbacks import EarlyStopping\n",
    "from keras.callbacks import ModelCheckpoint\n",
    "from keras.layers import Embedding, GRU, Input\n",
    "from keras.layers.core import Dense, Dropout\n",
    "from keras.models import Sequential, Model\n",
    "from keras.optimizers import Adam\n",
    "from model_evaluator import Evaluator\n",
    "from model_preprocessor import Preprocessor\n",
    "\n",
    "warnings.filterwarnings(\"ignore\")\n",
    "config = tf.ConfigProto()\n",
    "config.gpu_options.per_process_gpu_memory_fraction = 0.9\n",
    "K.tensorflow_backend.set_session(tf.Session(config=config))"
   ]
  },
  {
   "cell_type": "code",
   "execution_count": 2,
   "metadata": {
    "ExecuteTime": {
     "end_time": "2020-08-04T07:48:10.310866Z",
     "start_time": "2020-08-04T07:48:10.306865Z"
    }
   },
   "outputs": [],
   "source": [
    " def gru(max_len=73, emb_dim=32, max_vocab_len=40, W_reg=regularizers.l2(1e-4)):\n",
    "    \"\"\"GRU model with the Keras Sequential model\"\"\"\n",
    "    input = Input(shape=(max_len,), dtype='int32', name='gru_input')\n",
    "    emb = Embedding(input_dim=max_vocab_len, output_dim=emb_dim, input_length=max_len, W_regularizer=W_reg)(input)\n",
    "    emb = Dropout(0.5)(emb)\n",
    "    gru = GRU(128)(emb)\n",
    "    gru = Dropout(0.5)(gru)\n",
    "    output = Dense(21, activation='softmax', name='gru_output')(gru)\n",
    "    model = Model(input=[input], output=[output])\n",
    "    \n",
    "    return model"
   ]
  },
  {
   "cell_type": "code",
   "execution_count": 3,
   "metadata": {
    "ExecuteTime": {
     "end_time": "2020-08-04T07:48:28.902241Z",
     "start_time": "2020-08-04T07:48:10.311866Z"
    }
   },
   "outputs": [],
   "source": [
    "# Load data using model preprocessor\n",
    "x_train, x_test, y_train, y_test = Preprocessor.load_data()"
   ]
  },
  {
   "cell_type": "code",
   "execution_count": 4,
   "metadata": {
    "ExecuteTime": {
     "end_time": "2020-08-04T09:13:01.158848Z",
     "start_time": "2020-08-04T07:48:28.903241Z"
    }
   },
   "outputs": [
    {
     "name": "stdout",
     "output_type": "stream",
     "text": [
      "WARNING:tensorflow:From c:\\users\\hyojong\\anaconda3\\envs\\ml\\lib\\site-packages\\tensorflow\\python\\ops\\resource_variable_ops.py:435: colocate_with (from tensorflow.python.framework.ops) is deprecated and will be removed in a future version.\n",
      "Instructions for updating:\n",
      "Colocations handled automatically by placer.\n",
      "WARNING:tensorflow:From c:\\users\\hyojong\\anaconda3\\envs\\ml\\lib\\site-packages\\tensorflow\\python\\ops\\math_ops.py:3066: to_int32 (from tensorflow.python.ops.math_ops) is deprecated and will be removed in a future version.\n",
      "Instructions for updating:\n",
      "Use tf.cast instead.\n",
      "Train on 1149965 samples, validate on 142131 samples\n",
      "Epoch 1/5\n",
      "1149965/1149965 [==============================] - 1016s 884us/step - loss: 0.8377 - accuracy: 0.7486 - categorical_accuracy: 0.6513 - precision: 0.8525 - recall: 0.6708 - fmeasure: 0.7469 - val_loss: 0.4669 - val_accuracy: 0.8613 - val_categorical_accuracy: 0.7551 - val_precision: 0.9297 - val_recall: 0.8105 - val_fmeasure: 0.8655\n",
      "Epoch 2/5\n",
      "1149965/1149965 [==============================] - 1015s 883us/step - loss: 0.4273 - accuracy: 0.8749 - categorical_accuracy: 0.7907 - precision: 0.9252 - recall: 0.8337 - fmeasure: 0.8766 - val_loss: 0.2838 - val_accuracy: 0.9161 - val_categorical_accuracy: 0.8175 - val_precision: 0.9432 - val_recall: 0.8932 - val_fmeasure: 0.9173\n",
      "Epoch 3/5\n",
      "1149965/1149965 [==============================] - 1015s 882us/step - loss: 0.3009 - accuracy: 0.9122 - categorical_accuracy: 0.8355 - precision: 0.9409 - recall: 0.8871 - fmeasure: 0.9130 - val_loss: 0.2222 - val_accuracy: 0.9347 - val_categorical_accuracy: 0.8502 - val_precision: 0.9528 - val_recall: 0.9185 - val_fmeasure: 0.9352\n",
      "Epoch 4/5\n",
      "1149965/1149965 [==============================] - 1013s 881us/step - loss: 0.2512 - accuracy: 0.9264 - categorical_accuracy: 0.8608 - precision: 0.9475 - recall: 0.9075 - fmeasure: 0.9269 - val_loss: 0.1940 - val_accuracy: 0.9432 - val_categorical_accuracy: 0.8698 - val_precision: 0.9557 - val_recall: 0.9318 - val_fmeasure: 0.9435\n",
      "Epoch 5/5\n",
      "1149965/1149965 [==============================] - 1012s 880us/step - loss: 0.2257 - accuracy: 0.9337 - categorical_accuracy: 0.8769 - precision: 0.9513 - recall: 0.9181 - fmeasure: 0.9343 - val_loss: 0.1752 - val_accuracy: 0.9483 - val_categorical_accuracy: 0.8830 - val_precision: 0.9592 - val_recall: 0.9388 - val_fmeasure: 0.9488\n"
     ]
    },
    {
     "data": {
      "text/plain": [
       "<keras.callbacks.callbacks.History at 0x1e333d52848>"
      ]
     },
     "execution_count": 4,
     "metadata": {},
     "output_type": "execute_result"
    }
   ],
   "source": [
    "# Define Deep Learning Model\n",
    "model_name = \"GRU\"\n",
    "model = gru()\n",
    "\n",
    "''' Training phrase '''\n",
    "epochs = 5\n",
    "batch_size = 64\n",
    "adam = Adam(lr=1e-4, beta_1=0.9, beta_2=0.999, epsilon=1e-08, decay=0.0)\n",
    "\n",
    "model.compile(optimizer=adam, loss='categorical_crossentropy',\n",
    "              metrics=['accuracy', tf.keras.metrics.CategoricalAccuracy(),\n",
    "                       Evaluator.precision, Evaluator.recall, Evaluator.fmeasure])\n",
    "\n",
    "model.fit(x_train, y_train, epochs=epochs, batch_size=batch_size, validation_split=0.11)"
   ]
  },
  {
   "cell_type": "code",
   "execution_count": 5,
   "metadata": {
    "ExecuteTime": {
     "end_time": "2020-08-04T09:13:01.254872Z",
     "start_time": "2020-08-04T09:13:01.162850Z"
    }
   },
   "outputs": [],
   "source": [
    "model_json = model.to_json()\n",
    "with open(\"./saved_model/gru.json\", \"w\") as json_file:\n",
    "    json_file.write(model_json)\n",
    "model.save_weights(\"./saved_model/gru.h5\")"
   ]
  },
  {
   "cell_type": "code",
   "execution_count": null,
   "metadata": {},
   "outputs": [],
   "source": []
  }
 ],
 "metadata": {
  "kernelspec": {
   "display_name": "Python 3",
   "language": "python",
   "name": "python3"
  },
  "language_info": {
   "codemirror_mode": {
    "name": "ipython",
    "version": 3
   },
   "file_extension": ".py",
   "mimetype": "text/x-python",
   "name": "python",
   "nbconvert_exporter": "python",
   "pygments_lexer": "ipython3",
   "version": "3.7.7"
  },
  "toc": {
   "base_numbering": 1,
   "nav_menu": {},
   "number_sections": true,
   "sideBar": true,
   "skip_h1_title": false,
   "title_cell": "Table of Contents",
   "title_sidebar": "Contents",
   "toc_cell": false,
   "toc_position": {},
   "toc_section_display": true,
   "toc_window_display": false
  }
 },
 "nbformat": 4,
 "nbformat_minor": 4
}
