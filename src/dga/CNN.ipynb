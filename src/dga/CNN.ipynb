{
 "cells": [
  {
   "cell_type": "code",
   "execution_count": 1,
   "metadata": {
    "ExecuteTime": {
     "end_time": "2020-08-04T04:36:28.847322Z",
     "start_time": "2020-08-04T04:36:27.079418Z"
    }
   },
   "outputs": [
    {
     "name": "stderr",
     "output_type": "stream",
     "text": [
      "Using TensorFlow backend.\n"
     ]
    }
   ],
   "source": [
    "# Load Libraries\n",
    "import warnings\n",
    "from datetime import datetime\n",
    "\n",
    "import tensorflow as tf\n",
    "from keras import backend as K\n",
    "from keras import regularizers\n",
    "from keras.callbacks import EarlyStopping\n",
    "from keras.callbacks import ModelCheckpoint\n",
    "from keras.layers import Input, ELU, Embedding, BatchNormalization, Convolution1D, MaxPooling1D, concatenate\n",
    "from keras.layers.core import Dense, Dropout, Lambda\n",
    "from keras.models import Model\n",
    "from keras.optimizers import Adam\n",
    "from model_evaluator import Evaluator\n",
    "from model_preprocessor import Preprocessor\n",
    "\n",
    "warnings.filterwarnings(\"ignore\")\n",
    "config = tf.ConfigProto()\n",
    "config.gpu_options.per_process_gpu_memory_fraction = 0.9\n",
    "K.tensorflow_backend.set_session(tf.Session(config=config))"
   ]
  },
  {
   "cell_type": "code",
   "execution_count": 2,
   "metadata": {
    "ExecuteTime": {
     "end_time": "2020-08-04T04:36:28.858324Z",
     "start_time": "2020-08-04T04:36:28.848322Z"
    }
   },
   "outputs": [],
   "source": [
    "def conv_fully(max_len=73, emb_dim=32, max_vocab_len=40, W_reg=regularizers.l2(1e-4)):\n",
    "    \"\"\"CNN model with the Keras functional API\"\"\"\n",
    "\n",
    "    # Input\n",
    "    main_input = Input(shape=(max_len,), dtype='int32', name='main_input')\n",
    "\n",
    "    # Embedding layer\n",
    "    emb = Embedding(input_dim=max_vocab_len, output_dim=emb_dim, input_length=max_len, W_regularizer=W_reg)(main_input)\n",
    "    emb = Dropout(0.2)(emb)\n",
    "\n",
    "    def sum_1d(X):\n",
    "        return K.sum(X, axis=1)\n",
    "\n",
    "    def get_conv_layer(emb, kernel_size=5, filters=256):\n",
    "        # Conv layer\n",
    "        conv = Convolution1D(kernel_size=kernel_size, filters=filters, border_mode='same')(emb)\n",
    "        conv = ELU()(conv)\n",
    "        conv = MaxPooling1D()(conv)\n",
    "        conv = Lambda(sum_1d, output_shape=(filters,))(conv)\n",
    "        conv = Dropout(0.5)(conv)\n",
    "\n",
    "        return conv\n",
    "\n",
    "    # Multiple Conv Layers\n",
    "    # 커널 사이즈를 다르게 한 conv\n",
    "    conv1 = get_conv_layer(emb, kernel_size=2, filters=256)\n",
    "    conv2 = get_conv_layer(emb, kernel_size=3, filters=256)\n",
    "    conv3 = get_conv_layer(emb, kernel_size=4, filters=256)\n",
    "    conv4 = get_conv_layer(emb, kernel_size=5, filters=256)\n",
    "\n",
    "    # Fully Connected Layers\n",
    "    # 위 결과 합침\n",
    "    merged = concatenate([conv1, conv2, conv3, conv4], axis=1)\n",
    "\n",
    "    hidden1 = Dense(1024)(merged)\n",
    "    hidden1 = ELU()(hidden1)\n",
    "    hidden1 = BatchNormalization(mode=0)(hidden1)\n",
    "    hidden1 = Dropout(0.5)(hidden1)\n",
    "\n",
    "    hidden2 = Dense(256)(hidden1)\n",
    "    hidden2 = ELU()(hidden2)\n",
    "    hidden2 = BatchNormalization(mode=0)(hidden2)\n",
    "    hidden2 = Dropout(0.5)(hidden2)\n",
    "\n",
    "    hidden3 = Dense(64)(hidden2)\n",
    "    hidden3 = ELU()(hidden3)\n",
    "    hidden3 = BatchNormalization(mode=0)(hidden3)\n",
    "    hidden3 = Dropout(0.5)(hidden3)\n",
    "\n",
    "    # Output layer (last fully connected layer)\n",
    "    # 마지막 클래스 결정하는 layer\n",
    "    output = Dense(21, activation='softmax', name='main_output')(hidden3)\n",
    "\n",
    "    model = Model(input=[main_input], output=[output])\n",
    "\n",
    "    return model"
   ]
  },
  {
   "cell_type": "code",
   "execution_count": 3,
   "metadata": {
    "ExecuteTime": {
     "end_time": "2020-08-04T04:36:47.484588Z",
     "start_time": "2020-08-04T04:36:28.859327Z"
    }
   },
   "outputs": [],
   "source": [
    "# Load data using model preprocessor\n",
    "x_train, x_test, y_train, y_test = Preprocessor.load_data()"
   ]
  },
  {
   "cell_type": "code",
   "execution_count": 4,
   "metadata": {
    "ExecuteTime": {
     "end_time": "2020-08-04T06:13:23.200745Z",
     "start_time": "2020-08-04T04:36:47.485589Z"
    }
   },
   "outputs": [
    {
     "name": "stdout",
     "output_type": "stream",
     "text": [
      "WARNING:tensorflow:From c:\\users\\hyojong\\anaconda3\\envs\\ml\\lib\\site-packages\\tensorflow\\python\\ops\\resource_variable_ops.py:435: colocate_with (from tensorflow.python.framework.ops) is deprecated and will be removed in a future version.\n",
      "Instructions for updating:\n",
      "Colocations handled automatically by placer.\n",
      "WARNING:tensorflow:From c:\\users\\hyojong\\anaconda3\\envs\\ml\\lib\\site-packages\\tensorflow\\python\\ops\\math_ops.py:3066: to_int32 (from tensorflow.python.ops.math_ops) is deprecated and will be removed in a future version.\n",
      "Instructions for updating:\n",
      "Use tf.cast instead.\n",
      "Train on 1149965 samples, validate on 142131 samples\n",
      "Epoch 1/5\n",
      "1149965/1149965 [==============================] - 1089s 947us/step - loss: 0.6817 - accuracy: 0.8179 - categorical_accuracy: 0.7276 - precision: 0.9012 - recall: 0.7566 - fmeasure: 0.8196 - val_loss: 0.3122 - val_accuracy: 0.9068 - val_categorical_accuracy: 0.8230 - val_precision: 0.9340 - val_recall: 0.8865 - val_fmeasure: 0.9094\n",
      "Epoch 2/5\n",
      "1149965/1149965 [==============================] - 1333s 1ms/step - loss: 0.3682 - accuracy: 0.8931 - categorical_accuracy: 0.8450 - precision: 0.9329 - recall: 0.8583 - fmeasure: 0.8937 - val_loss: 0.2623 - val_accuracy: 0.9219 - val_categorical_accuracy: 0.8603 - val_precision: 0.9403 - val_recall: 0.9078 - val_fmeasure: 0.9236\n",
      "Epoch 3/5\n",
      "1149965/1149965 [==============================] - 1270s 1ms/step - loss: 0.3127 - accuracy: 0.9093 - categorical_accuracy: 0.8699 - precision: 0.9403 - recall: 0.8826 - fmeasure: 0.9103 - val_loss: 0.2537 - val_accuracy: 0.9237 - val_categorical_accuracy: 0.8774 - val_precision: 0.9400 - val_recall: 0.9119 - val_fmeasure: 0.9256\n",
      "Epoch 4/5\n",
      "1149965/1149965 [==============================] - 1049s 912us/step - loss: 0.2827 - accuracy: 0.9184 - categorical_accuracy: 0.8831 - precision: 0.9447 - recall: 0.8958 - fmeasure: 0.9194 - val_loss: 0.2347 - val_accuracy: 0.9316 - val_categorical_accuracy: 0.8881 - val_precision: 0.9452 - val_recall: 0.9218 - val_fmeasure: 0.9332\n",
      "Epoch 5/5\n",
      "1149965/1149965 [==============================] - 1053s 916us/step - loss: 0.2633 - accuracy: 0.9239 - categorical_accuracy: 0.8920 - precision: 0.9476 - recall: 0.9037 - fmeasure: 0.9250 - val_loss: 0.2257 - val_accuracy: 0.9340 - val_categorical_accuracy: 0.8955 - val_precision: 0.9466 - val_recall: 0.9249 - val_fmeasure: 0.9355\n"
     ]
    },
    {
     "data": {
      "text/plain": [
       "<keras.callbacks.callbacks.History at 0x2b88ff4ca08>"
      ]
     },
     "execution_count": 4,
     "metadata": {},
     "output_type": "execute_result"
    }
   ],
   "source": [
    "# Define Deep Learning Model\n",
    "model_name = \"1DCNN\"\n",
    "model = conv_fully()\n",
    "\n",
    "''' Training phrase '''\n",
    "epochs = 5\n",
    "batch_size = 64\n",
    "adam = Adam(lr=1e-4, beta_1=0.9, beta_2=0.999, epsilon=1e-08, decay=0.0)\n",
    "\n",
    "model.compile(optimizer=adam, loss='categorical_crossentropy',\n",
    "              metrics=['accuracy', tf.keras.metrics.CategoricalAccuracy(),\n",
    "                       Evaluator.precision, Evaluator.recall, Evaluator.fmeasure])\n",
    "\n",
    "model.fit(x_train, y_train, epochs=epochs, batch_size=batch_size, validation_split=0.11)\n"
   ]
  },
  {
   "cell_type": "code",
   "execution_count": 5,
   "metadata": {
    "ExecuteTime": {
     "end_time": "2020-08-04T06:13:23.637365Z",
     "start_time": "2020-08-04T06:13:23.201745Z"
    }
   },
   "outputs": [],
   "source": [
    "model_json = model.to_json()\n",
    "with open(\"./saved_model/cnn.json\", \"w\") as json_file:\n",
    "    json_file.write(model_json)\n",
    "model.save_weights(\"./saved_model/cnn.h5\")"
   ]
  },
  {
   "cell_type": "code",
   "execution_count": null,
   "metadata": {},
   "outputs": [],
   "source": []
  }
 ],
 "metadata": {
  "kernelspec": {
   "display_name": "Python 3",
   "language": "python",
   "name": "python3"
  },
  "language_info": {
   "codemirror_mode": {
    "name": "ipython",
    "version": 3
   },
   "file_extension": ".py",
   "mimetype": "text/x-python",
   "name": "python",
   "nbconvert_exporter": "python",
   "pygments_lexer": "ipython3",
   "version": "3.7.7"
  },
  "toc": {
   "base_numbering": 1,
   "nav_menu": {},
   "number_sections": true,
   "sideBar": true,
   "skip_h1_title": false,
   "title_cell": "Table of Contents",
   "title_sidebar": "Contents",
   "toc_cell": false,
   "toc_position": {},
   "toc_section_display": true,
   "toc_window_display": false
  }
 },
 "nbformat": 4,
 "nbformat_minor": 4
}
